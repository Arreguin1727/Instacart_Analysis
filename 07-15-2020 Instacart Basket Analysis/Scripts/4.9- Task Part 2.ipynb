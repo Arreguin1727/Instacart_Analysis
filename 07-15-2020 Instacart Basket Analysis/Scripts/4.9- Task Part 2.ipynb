{
 "cells": [
  {
   "cell_type": "markdown",
   "id": "49feb803",
   "metadata": {},
   "source": [
    "### Contents\n",
    "    01. Importing libraries and data\n",
    "    02. Creating a bar chart, histogram, scatterplot and a line chart\n",
    "    03. Histogram of the “order_hour_of_day” column\n",
    "    04. Bar chart from the “loyalty_flag” column\n",
    "    05. Line chart of prices to check the difference in expenditure\n",
    "    06. Exploratory analysis of customer demographics\n",
    "    07. Export"
   ]
  },
  {
   "cell_type": "markdown",
   "id": "560b6085",
   "metadata": {},
   "source": [
    "# Import Libraries "
   ]
  },
  {
   "cell_type": "code",
   "execution_count": 1,
   "id": "7114aaea",
   "metadata": {},
   "outputs": [],
   "source": [
    "import pandas as pd\n",
    "import numpy as np\n",
    "import os\n",
    "import matplotlib.pyplot as plt\n",
    "import seaborn as sns\n",
    "import scipy"
   ]
  },
  {
   "cell_type": "markdown",
   "id": "630e7f88",
   "metadata": {},
   "source": [
    "# Import Data"
   ]
  },
  {
   "cell_type": "code",
   "execution_count": 2,
   "id": "976e1964",
   "metadata": {},
   "outputs": [],
   "source": [
    "# Set path \n",
    "path=r'/Users/aylaarreguin/07-15-2020 Instacart Basket Analysis/'"
   ]
  },
  {
   "cell_type": "code",
   "execution_count": 3,
   "id": "2b80982d",
   "metadata": {},
   "outputs": [],
   "source": [
    "# Import latest version of Instacart data\n",
    "df = pd.read_pickle(os.path.join(path, 'Data', 'Prepared Data', 'full_instacart_data.pkl'))"
   ]
  },
  {
   "cell_type": "code",
   "execution_count": 4,
   "id": "eeba9415",
   "metadata": {},
   "outputs": [
    {
     "data": {
      "text/html": [
       "<div>\n",
       "<style scoped>\n",
       "    .dataframe tbody tr th:only-of-type {\n",
       "        vertical-align: middle;\n",
       "    }\n",
       "\n",
       "    .dataframe tbody tr th {\n",
       "        vertical-align: top;\n",
       "    }\n",
       "\n",
       "    .dataframe thead th {\n",
       "        text-align: right;\n",
       "    }\n",
       "</style>\n",
       "<table border=\"1\" class=\"dataframe\">\n",
       "  <thead>\n",
       "    <tr style=\"text-align: right;\">\n",
       "      <th></th>\n",
       "      <th>Order_id</th>\n",
       "      <th>Customer_id</th>\n",
       "      <th>Order_number</th>\n",
       "      <th>Orders_day_of_week</th>\n",
       "      <th>Order_time_of_day</th>\n",
       "      <th>Days_since_prior_order</th>\n",
       "      <th>Product_id</th>\n",
       "      <th>Add_to_cart_order</th>\n",
       "      <th>Reordered</th>\n",
       "      <th>Product_name</th>\n",
       "      <th>...</th>\n",
       "      <th>First_name</th>\n",
       "      <th>Surname</th>\n",
       "      <th>Gender</th>\n",
       "      <th>State</th>\n",
       "      <th>Age</th>\n",
       "      <th>Date_joined</th>\n",
       "      <th>#_of_dependants</th>\n",
       "      <th>Marital_status</th>\n",
       "      <th>Income</th>\n",
       "      <th>_merge</th>\n",
       "    </tr>\n",
       "  </thead>\n",
       "  <tbody>\n",
       "    <tr>\n",
       "      <th>0</th>\n",
       "      <td>2539329</td>\n",
       "      <td>1</td>\n",
       "      <td>1</td>\n",
       "      <td>2</td>\n",
       "      <td>8</td>\n",
       "      <td>NaN</td>\n",
       "      <td>196</td>\n",
       "      <td>1</td>\n",
       "      <td>0</td>\n",
       "      <td>Soda</td>\n",
       "      <td>...</td>\n",
       "      <td>Linda</td>\n",
       "      <td>Nguyen</td>\n",
       "      <td>Female</td>\n",
       "      <td>Alabama</td>\n",
       "      <td>31</td>\n",
       "      <td>2/17/2019</td>\n",
       "      <td>3</td>\n",
       "      <td>married</td>\n",
       "      <td>40423</td>\n",
       "      <td>both</td>\n",
       "    </tr>\n",
       "    <tr>\n",
       "      <th>1</th>\n",
       "      <td>2398795</td>\n",
       "      <td>1</td>\n",
       "      <td>2</td>\n",
       "      <td>3</td>\n",
       "      <td>7</td>\n",
       "      <td>15.0</td>\n",
       "      <td>196</td>\n",
       "      <td>1</td>\n",
       "      <td>1</td>\n",
       "      <td>Soda</td>\n",
       "      <td>...</td>\n",
       "      <td>Linda</td>\n",
       "      <td>Nguyen</td>\n",
       "      <td>Female</td>\n",
       "      <td>Alabama</td>\n",
       "      <td>31</td>\n",
       "      <td>2/17/2019</td>\n",
       "      <td>3</td>\n",
       "      <td>married</td>\n",
       "      <td>40423</td>\n",
       "      <td>both</td>\n",
       "    </tr>\n",
       "    <tr>\n",
       "      <th>2</th>\n",
       "      <td>473747</td>\n",
       "      <td>1</td>\n",
       "      <td>3</td>\n",
       "      <td>3</td>\n",
       "      <td>12</td>\n",
       "      <td>21.0</td>\n",
       "      <td>196</td>\n",
       "      <td>1</td>\n",
       "      <td>1</td>\n",
       "      <td>Soda</td>\n",
       "      <td>...</td>\n",
       "      <td>Linda</td>\n",
       "      <td>Nguyen</td>\n",
       "      <td>Female</td>\n",
       "      <td>Alabama</td>\n",
       "      <td>31</td>\n",
       "      <td>2/17/2019</td>\n",
       "      <td>3</td>\n",
       "      <td>married</td>\n",
       "      <td>40423</td>\n",
       "      <td>both</td>\n",
       "    </tr>\n",
       "    <tr>\n",
       "      <th>3</th>\n",
       "      <td>2254736</td>\n",
       "      <td>1</td>\n",
       "      <td>4</td>\n",
       "      <td>4</td>\n",
       "      <td>7</td>\n",
       "      <td>29.0</td>\n",
       "      <td>196</td>\n",
       "      <td>1</td>\n",
       "      <td>1</td>\n",
       "      <td>Soda</td>\n",
       "      <td>...</td>\n",
       "      <td>Linda</td>\n",
       "      <td>Nguyen</td>\n",
       "      <td>Female</td>\n",
       "      <td>Alabama</td>\n",
       "      <td>31</td>\n",
       "      <td>2/17/2019</td>\n",
       "      <td>3</td>\n",
       "      <td>married</td>\n",
       "      <td>40423</td>\n",
       "      <td>both</td>\n",
       "    </tr>\n",
       "    <tr>\n",
       "      <th>4</th>\n",
       "      <td>431534</td>\n",
       "      <td>1</td>\n",
       "      <td>5</td>\n",
       "      <td>4</td>\n",
       "      <td>15</td>\n",
       "      <td>28.0</td>\n",
       "      <td>196</td>\n",
       "      <td>1</td>\n",
       "      <td>1</td>\n",
       "      <td>Soda</td>\n",
       "      <td>...</td>\n",
       "      <td>Linda</td>\n",
       "      <td>Nguyen</td>\n",
       "      <td>Female</td>\n",
       "      <td>Alabama</td>\n",
       "      <td>31</td>\n",
       "      <td>2/17/2019</td>\n",
       "      <td>3</td>\n",
       "      <td>married</td>\n",
       "      <td>40423</td>\n",
       "      <td>both</td>\n",
       "    </tr>\n",
       "  </tbody>\n",
       "</table>\n",
       "<p>5 rows × 33 columns</p>\n",
       "</div>"
      ],
      "text/plain": [
       "   Order_id Customer_id  Order_number  Orders_day_of_week  Order_time_of_day  \\\n",
       "0   2539329           1             1                   2                  8   \n",
       "1   2398795           1             2                   3                  7   \n",
       "2    473747           1             3                   3                 12   \n",
       "3   2254736           1             4                   4                  7   \n",
       "4    431534           1             5                   4                 15   \n",
       "\n",
       "   Days_since_prior_order  Product_id  Add_to_cart_order  Reordered  \\\n",
       "0                     NaN         196                  1          0   \n",
       "1                    15.0         196                  1          1   \n",
       "2                    21.0         196                  1          1   \n",
       "3                    29.0         196                  1          1   \n",
       "4                    28.0         196                  1          1   \n",
       "\n",
       "  Product_name  ...  First_name  Surname  Gender    State Age Date_joined  \\\n",
       "0         Soda  ...       Linda   Nguyen  Female  Alabama  31   2/17/2019   \n",
       "1         Soda  ...       Linda   Nguyen  Female  Alabama  31   2/17/2019   \n",
       "2         Soda  ...       Linda   Nguyen  Female  Alabama  31   2/17/2019   \n",
       "3         Soda  ...       Linda   Nguyen  Female  Alabama  31   2/17/2019   \n",
       "4         Soda  ...       Linda   Nguyen  Female  Alabama  31   2/17/2019   \n",
       "\n",
       "  #_of_dependants  Marital_status Income  _merge  \n",
       "0               3         married  40423    both  \n",
       "1               3         married  40423    both  \n",
       "2               3         married  40423    both  \n",
       "3               3         married  40423    both  \n",
       "4               3         married  40423    both  \n",
       "\n",
       "[5 rows x 33 columns]"
      ]
     },
     "execution_count": 4,
     "metadata": {},
     "output_type": "execute_result"
    }
   ],
   "source": [
    "# Check df\n",
    "df.head()"
   ]
  },
  {
   "cell_type": "code",
   "execution_count": 5,
   "id": "a02569e7",
   "metadata": {},
   "outputs": [
    {
     "data": {
      "text/plain": [
       "(32404859, 33)"
      ]
     },
     "execution_count": 5,
     "metadata": {},
     "output_type": "execute_result"
    }
   ],
   "source": [
    "df.shape"
   ]
  },
  {
   "cell_type": "markdown",
   "id": "ecfdd3ca",
   "metadata": {},
   "source": [
    "# Creating a bar chart, histogram, scatterplot and a line chart"
   ]
  },
  {
   "cell_type": "code",
   "execution_count": 6,
   "id": "cacec45f",
   "metadata": {},
   "outputs": [
    {
     "data": {
      "image/png": "[encoded data removed]",
      "text/plain": [
       "<Figure size 432x288 with 1 Axes>"
      ]
     },
     "metadata": {
      "needs_background": "light"
     },
     "output_type": "display_data"
    }
   ],
   "source": [
    "# Create a bar chart sorted on index (0-6)\n",
    "bar = df['Orders_day_of_week'].value_counts().sort_index().plot.bar()"
   ]
  },
  {
   "cell_type": "code",
   "execution_count": 7,
   "id": "2d41909f",
   "metadata": {},
   "outputs": [],
   "source": [
    "# Creating histogram to show frequency of prices\n",
    "# Mark the 5,127 outlier price values as missing as instructed in exercise since they don’t make sense in terms of the other values in the column. \n",
    "df.loc[df['prices'] >100, 'prices'] = np.nan"
   ]
  },
  {
   "cell_type": "code",
   "execution_count": 8,
   "id": "54f7a429",
   "metadata": {
    "scrolled": true
   },
   "outputs": [
    {
     "data": {
      "image/png": "[encoded data removed]",
      "text/plain": [
       "<Figure size 432x288 with 1 Axes>"
      ]
     },
     "metadata": {
      "needs_background": "light"
     },
     "output_type": "display_data"
    }
   ],
   "source": [
    "# Retry histogram\n",
    "hist = df['prices'].plot.hist(bins = 50, color = 'purple')"
   ]
  },
  {
   "cell_type": "code",
   "execution_count": 48,
   "id": "613aff45",
   "metadata": {},
   "outputs": [],
   "source": [
    "# create bar chart grouping low_range_items, medium_range_items, and high_range_items\n",
    "df.loc[df['prices']<5, 'price_range'] = 'low range product'\n",
    "df.loc[(df['prices']>=5) & (df['prices']<15), 'price_range'] = 'mid range product'\n",
    "df.loc[df['prices']>=15, 'price_range'] = 'high range product'"
   ]
  },
  {
   "cell_type": "code",
   "execution_count": 49,
   "id": "1430d454",
   "metadata": {},
   "outputs": [
    {
     "data": {
      "image/png": "[encoded data removed]",
      "text/plain": [
       "<Figure size 432x288 with 1 Axes>"
      ]
     },
     "metadata": {
      "needs_background": "light"
     },
     "output_type": "display_data"
    }
   ],
   "source": [
    "bar2 = df['price_range'].value_counts().plot.bar()"
   ]
  },
  {
   "cell_type": "code",
   "execution_count": 9,
   "id": "5c00a055",
   "metadata": {},
   "outputs": [
    {
     "data": {
      "image/png": "[encoded data removed]",
      "text/plain": [
       "<Figure size 432x288 with 1 Axes>"
      ]
     },
     "metadata": {
      "needs_background": "light"
     },
     "output_type": "display_data"
    }
   ],
   "source": [
    "# Creating scatterplot\n",
    "scatter = sns.scatterplot(x = 'prices', y = 'prices',data = df)"
   ]
  },
  {
   "cell_type": "code",
   "execution_count": 10,
   "id": "d7981435",
   "metadata": {},
   "outputs": [],
   "source": [
    "# Create a subset in order to make a line chart \n",
    "# Create a list holding true/false values to test np.random.rand() <=0.7\n",
    "np.random.seed(4)\n",
    "dev = np.random.rand(len(df)) <= 0.7"
   ]
  },
  {
   "cell_type": "code",
   "execution_count": 11,
   "id": "b5e24cb0",
   "metadata": {},
   "outputs": [
    {
     "data": {
      "text/plain": [
       "array([False,  True, False, ...,  True,  True,  True])"
      ]
     },
     "execution_count": 11,
     "metadata": {},
     "output_type": "execute_result"
    }
   ],
   "source": [
    "# check dev to verrify it is boolean \n",
    "dev"
   ]
  },
  {
   "cell_type": "code",
   "execution_count": 12,
   "id": "7678623a",
   "metadata": {},
   "outputs": [],
   "source": [
    "# Store 70% of the sample in data frame big\n",
    "big = df[dev]"
   ]
  },
  {
   "cell_type": "code",
   "execution_count": 13,
   "id": "d1cb20b6",
   "metadata": {},
   "outputs": [],
   "source": [
    "# Store 30% of the sample in data frame small\n",
    "small = df[~dev]"
   ]
  },
  {
   "cell_type": "code",
   "execution_count": 14,
   "id": "9b27437a",
   "metadata": {},
   "outputs": [
    {
     "data": {
      "text/plain": [
       "32404859"
      ]
     },
     "execution_count": 14,
     "metadata": {},
     "output_type": "execute_result"
    }
   ],
   "source": [
    "# Checking length is correct\n",
    "len(big)+len(small)"
   ]
  },
  {
   "cell_type": "code",
   "execution_count": 15,
   "id": "db983b97",
   "metadata": {},
   "outputs": [],
   "source": [
    "# Create new data frame with just the columns needed for the line chart\n",
    "df_small = small[['Orders_day_of_week','prices']]"
   ]
  },
  {
   "cell_type": "code",
   "execution_count": 16,
   "id": "4546a413",
   "metadata": {},
   "outputs": [
    {
     "data": {
      "text/html": [
       "<div>\n",
       "<style scoped>\n",
       "    .dataframe tbody tr th:only-of-type {\n",
       "        vertical-align: middle;\n",
       "    }\n",
       "\n",
       "    .dataframe tbody tr th {\n",
       "        vertical-align: top;\n",
       "    }\n",
       "\n",
       "    .dataframe thead th {\n",
       "        text-align: right;\n",
       "    }\n",
       "</style>\n",
       "<table border=\"1\" class=\"dataframe\">\n",
       "  <thead>\n",
       "    <tr style=\"text-align: right;\">\n",
       "      <th></th>\n",
       "      <th>Orders_day_of_week</th>\n",
       "      <th>prices</th>\n",
       "    </tr>\n",
       "  </thead>\n",
       "  <tbody>\n",
       "    <tr>\n",
       "      <th>0</th>\n",
       "      <td>2</td>\n",
       "      <td>9.0</td>\n",
       "    </tr>\n",
       "    <tr>\n",
       "      <th>2</th>\n",
       "      <td>3</td>\n",
       "      <td>9.0</td>\n",
       "    </tr>\n",
       "    <tr>\n",
       "      <th>3</th>\n",
       "      <td>4</td>\n",
       "      <td>9.0</td>\n",
       "    </tr>\n",
       "    <tr>\n",
       "      <th>6</th>\n",
       "      <td>1</td>\n",
       "      <td>9.0</td>\n",
       "    </tr>\n",
       "    <tr>\n",
       "      <th>10</th>\n",
       "      <td>2</td>\n",
       "      <td>12.5</td>\n",
       "    </tr>\n",
       "    <tr>\n",
       "      <th>...</th>\n",
       "      <td>...</td>\n",
       "      <td>...</td>\n",
       "    </tr>\n",
       "    <tr>\n",
       "      <th>32404841</th>\n",
       "      <td>2</td>\n",
       "      <td>10.7</td>\n",
       "    </tr>\n",
       "    <tr>\n",
       "      <th>32404842</th>\n",
       "      <td>6</td>\n",
       "      <td>10.7</td>\n",
       "    </tr>\n",
       "    <tr>\n",
       "      <th>32404843</th>\n",
       "      <td>0</td>\n",
       "      <td>10.7</td>\n",
       "    </tr>\n",
       "    <tr>\n",
       "      <th>32404849</th>\n",
       "      <td>1</td>\n",
       "      <td>10.7</td>\n",
       "    </tr>\n",
       "    <tr>\n",
       "      <th>32404850</th>\n",
       "      <td>4</td>\n",
       "      <td>10.7</td>\n",
       "    </tr>\n",
       "  </tbody>\n",
       "</table>\n",
       "<p>9721098 rows × 2 columns</p>\n",
       "</div>"
      ],
      "text/plain": [
       "          Orders_day_of_week  prices\n",
       "0                          2     9.0\n",
       "2                          3     9.0\n",
       "3                          4     9.0\n",
       "6                          1     9.0\n",
       "10                         2    12.5\n",
       "...                      ...     ...\n",
       "32404841                   2    10.7\n",
       "32404842                   6    10.7\n",
       "32404843                   0    10.7\n",
       "32404849                   1    10.7\n",
       "32404850                   4    10.7\n",
       "\n",
       "[9721098 rows x 2 columns]"
      ]
     },
     "execution_count": 16,
     "metadata": {},
     "output_type": "execute_result"
    }
   ],
   "source": [
    "# Check df_small\n",
    "df_small"
   ]
  },
  {
   "cell_type": "code",
   "execution_count": 17,
   "id": "5346d183",
   "metadata": {
    "scrolled": true
   },
   "outputs": [
    {
     "data": {
      "image/png": "[encoded data removed]",
      "text/plain": [
       "<Figure size 432x288 with 1 Axes>"
      ]
     },
     "metadata": {
      "needs_background": "light"
     },
     "output_type": "display_data"
    }
   ],
   "source": [
    "# Create line chart on 30% of df sample\n",
    "line = sns.lineplot(data = df_small, x = 'Orders_day_of_week',y = 'prices')"
   ]
  },
  {
   "cell_type": "markdown",
   "id": "e89cd9fc",
   "metadata": {},
   "source": [
    " # Histogram of the “order_hour_of_day” column"
   ]
  },
  {
   "cell_type": "code",
   "execution_count": 18,
   "id": "772dc04f",
   "metadata": {
    "scrolled": true
   },
   "outputs": [
    {
     "data": {
      "image/png": "[encoded data removed]",
      "text/plain": [
       "<Figure size 432x288 with 1 Axes>"
      ]
     },
     "metadata": {
      "needs_background": "light"
     },
     "output_type": "display_data"
    }
   ],
   "source": [
    "# Create a histogram of the “order_hour_of_day” column\n",
    "hist2 = df['Order_time_of_day'].plot.hist(bins = 50, color = 'purple')"
   ]
  },
  {
   "cell_type": "markdown",
   "id": "7a8f409d",
   "metadata": {},
   "source": [
    "The busiest time of day is between 10-11 am . Business begins to slow down after 5 pm until about 7 or 8 am the next day. "
   ]
  },
  {
   "cell_type": "markdown",
   "id": "f551afaa",
   "metadata": {},
   "source": [
    "# Bar chart from the “loyalty_flag” column"
   ]
  },
  {
   "cell_type": "code",
   "execution_count": 19,
   "id": "c227cc1b",
   "metadata": {},
   "outputs": [
    {
     "data": {
      "image/png": "[encoded data removed]",
      "text/plain": [
       "<Figure size 432x288 with 1 Axes>"
      ]
     },
     "metadata": {
      "needs_background": "light"
     },
     "output_type": "display_data"
    }
   ],
   "source": [
    "# Create a bar chart from the “Loyalty_flag” column.\n",
    "bar = df['Loyalty_flag'].value_counts().plot.bar()"
   ]
  },
  {
   "cell_type": "markdown",
   "id": "806711bd",
   "metadata": {},
   "source": [
    "Customers that have placed between 10-40 orders are grouped as Regular Customers and are our most common customer.   "
   ]
  },
  {
   "cell_type": "code",
   "execution_count": 20,
   "id": "ea9b70ad",
   "metadata": {},
   "outputs": [],
   "source": [
    "# Check whether there’s a difference in expenditure (the “prices” column) depending on the hour of the day. \n",
    "# Create a df with just the columns needed\n",
    "df_small_2 = small[['Order_time_of_day','prices']]"
   ]
  },
  {
   "cell_type": "code",
   "execution_count": 21,
   "id": "475b4af1",
   "metadata": {},
   "outputs": [
    {
     "data": {
      "text/html": [
       "<div>\n",
       "<style scoped>\n",
       "    .dataframe tbody tr th:only-of-type {\n",
       "        vertical-align: middle;\n",
       "    }\n",
       "\n",
       "    .dataframe tbody tr th {\n",
       "        vertical-align: top;\n",
       "    }\n",
       "\n",
       "    .dataframe thead th {\n",
       "        text-align: right;\n",
       "    }\n",
       "</style>\n",
       "<table border=\"1\" class=\"dataframe\">\n",
       "  <thead>\n",
       "    <tr style=\"text-align: right;\">\n",
       "      <th></th>\n",
       "      <th>Order_time_of_day</th>\n",
       "      <th>prices</th>\n",
       "    </tr>\n",
       "  </thead>\n",
       "  <tbody>\n",
       "    <tr>\n",
       "      <th>0</th>\n",
       "      <td>8</td>\n",
       "      <td>9.0</td>\n",
       "    </tr>\n",
       "    <tr>\n",
       "      <th>2</th>\n",
       "      <td>12</td>\n",
       "      <td>9.0</td>\n",
       "    </tr>\n",
       "    <tr>\n",
       "      <th>3</th>\n",
       "      <td>7</td>\n",
       "      <td>9.0</td>\n",
       "    </tr>\n",
       "    <tr>\n",
       "      <th>6</th>\n",
       "      <td>9</td>\n",
       "      <td>9.0</td>\n",
       "    </tr>\n",
       "    <tr>\n",
       "      <th>10</th>\n",
       "      <td>8</td>\n",
       "      <td>12.5</td>\n",
       "    </tr>\n",
       "    <tr>\n",
       "      <th>...</th>\n",
       "      <td>...</td>\n",
       "      <td>...</td>\n",
       "    </tr>\n",
       "    <tr>\n",
       "      <th>32404841</th>\n",
       "      <td>12</td>\n",
       "      <td>10.7</td>\n",
       "    </tr>\n",
       "    <tr>\n",
       "      <th>32404842</th>\n",
       "      <td>3</td>\n",
       "      <td>10.7</td>\n",
       "    </tr>\n",
       "    <tr>\n",
       "      <th>32404843</th>\n",
       "      <td>1</td>\n",
       "      <td>10.7</td>\n",
       "    </tr>\n",
       "    <tr>\n",
       "      <th>32404849</th>\n",
       "      <td>18</td>\n",
       "      <td>10.7</td>\n",
       "    </tr>\n",
       "    <tr>\n",
       "      <th>32404850</th>\n",
       "      <td>20</td>\n",
       "      <td>10.7</td>\n",
       "    </tr>\n",
       "  </tbody>\n",
       "</table>\n",
       "<p>9721098 rows × 2 columns</p>\n",
       "</div>"
      ],
      "text/plain": [
       "          Order_time_of_day  prices\n",
       "0                         8     9.0\n",
       "2                        12     9.0\n",
       "3                         7     9.0\n",
       "6                         9     9.0\n",
       "10                        8    12.5\n",
       "...                     ...     ...\n",
       "32404841                 12    10.7\n",
       "32404842                  3    10.7\n",
       "32404843                  1    10.7\n",
       "32404849                 18    10.7\n",
       "32404850                 20    10.7\n",
       "\n",
       "[9721098 rows x 2 columns]"
      ]
     },
     "execution_count": 21,
     "metadata": {},
     "output_type": "execute_result"
    }
   ],
   "source": [
    "# check df \n",
    "df_small_2"
   ]
  },
  {
   "cell_type": "markdown",
   "id": "02ab01a0",
   "metadata": {},
   "source": [
    "#  Line chart of prices to  check the difference in expenditure"
   ]
  },
  {
   "cell_type": "code",
   "execution_count": 22,
   "id": "73b9b704",
   "metadata": {
    "scrolled": true
   },
   "outputs": [
    {
     "data": {
      "image/png": "[encoded data removed]",
      "text/plain": [
       "<Figure size 432x288 with 1 Axes>"
      ]
     },
     "metadata": {
      "needs_background": "light"
     },
     "output_type": "display_data"
    }
   ],
   "source": [
    "# Create line chart on 30% of df sample\n",
    "line_2 = sns.lineplot(data = df_small_2, x = 'Order_time_of_day',y = 'prices')"
   ]
  },
  {
   "cell_type": "markdown",
   "id": "5e12f58d",
   "metadata": {},
   "source": [
    "It looks like customers are actually spending more in the morning even though the frequency of orders was shown to be low. Customers are making more orders in the afternoon but they are spending less. The highest expenditure is happening between 12am- 7am, with the lowest expenditure between 10-11 am. "
   ]
  },
  {
   "cell_type": "markdown",
   "id": "945d6fb7",
   "metadata": {},
   "source": [
    "#  Exploratory analysis of customer demographics "
   ]
  },
  {
   "cell_type": "code",
   "execution_count": 23,
   "id": "a2a1f9cd",
   "metadata": {},
   "outputs": [],
   "source": [
    "# Determine whether there’s a connection between age and family situation by creating a line chart exploring the connections between age and number of dependents:\n",
    "# # Creating new data frame with just the columns needed for the line chart\n",
    "df_small_3 = small[['Age','#_of_dependants']]"
   ]
  },
  {
   "cell_type": "code",
   "execution_count": 24,
   "id": "ff18e41e",
   "metadata": {},
   "outputs": [
    {
     "data": {
      "text/html": [
       "<div>\n",
       "<style scoped>\n",
       "    .dataframe tbody tr th:only-of-type {\n",
       "        vertical-align: middle;\n",
       "    }\n",
       "\n",
       "    .dataframe tbody tr th {\n",
       "        vertical-align: top;\n",
       "    }\n",
       "\n",
       "    .dataframe thead th {\n",
       "        text-align: right;\n",
       "    }\n",
       "</style>\n",
       "<table border=\"1\" class=\"dataframe\">\n",
       "  <thead>\n",
       "    <tr style=\"text-align: right;\">\n",
       "      <th></th>\n",
       "      <th>Age</th>\n",
       "      <th>#_of_dependants</th>\n",
       "    </tr>\n",
       "  </thead>\n",
       "  <tbody>\n",
       "    <tr>\n",
       "      <th>0</th>\n",
       "      <td>31</td>\n",
       "      <td>3</td>\n",
       "    </tr>\n",
       "    <tr>\n",
       "      <th>2</th>\n",
       "      <td>31</td>\n",
       "      <td>3</td>\n",
       "    </tr>\n",
       "    <tr>\n",
       "      <th>3</th>\n",
       "      <td>31</td>\n",
       "      <td>3</td>\n",
       "    </tr>\n",
       "    <tr>\n",
       "      <th>6</th>\n",
       "      <td>31</td>\n",
       "      <td>3</td>\n",
       "    </tr>\n",
       "    <tr>\n",
       "      <th>10</th>\n",
       "      <td>31</td>\n",
       "      <td>3</td>\n",
       "    </tr>\n",
       "    <tr>\n",
       "      <th>...</th>\n",
       "      <td>...</td>\n",
       "      <td>...</td>\n",
       "    </tr>\n",
       "    <tr>\n",
       "      <th>32404841</th>\n",
       "      <td>25</td>\n",
       "      <td>0</td>\n",
       "    </tr>\n",
       "    <tr>\n",
       "      <th>32404842</th>\n",
       "      <td>25</td>\n",
       "      <td>0</td>\n",
       "    </tr>\n",
       "    <tr>\n",
       "      <th>32404843</th>\n",
       "      <td>25</td>\n",
       "      <td>0</td>\n",
       "    </tr>\n",
       "    <tr>\n",
       "      <th>32404849</th>\n",
       "      <td>25</td>\n",
       "      <td>0</td>\n",
       "    </tr>\n",
       "    <tr>\n",
       "      <th>32404850</th>\n",
       "      <td>25</td>\n",
       "      <td>0</td>\n",
       "    </tr>\n",
       "  </tbody>\n",
       "</table>\n",
       "<p>9721098 rows × 2 columns</p>\n",
       "</div>"
      ],
      "text/plain": [
       "          Age  #_of_dependants\n",
       "0          31                3\n",
       "2          31                3\n",
       "3          31                3\n",
       "6          31                3\n",
       "10         31                3\n",
       "...       ...              ...\n",
       "32404841   25                0\n",
       "32404842   25                0\n",
       "32404843   25                0\n",
       "32404849   25                0\n",
       "32404850   25                0\n",
       "\n",
       "[9721098 rows x 2 columns]"
      ]
     },
     "execution_count": 24,
     "metadata": {},
     "output_type": "execute_result"
    }
   ],
   "source": [
    "# Check df \n",
    "df_small_3"
   ]
  },
  {
   "cell_type": "code",
   "execution_count": 25,
   "id": "4e6fd70e",
   "metadata": {},
   "outputs": [
    {
     "data": {
      "image/png": "[encoded data removed]",
      "text/plain": [
       "<Figure size 432x288 with 1 Axes>"
      ]
     },
     "metadata": {
      "needs_background": "light"
     },
     "output_type": "display_data"
    }
   ],
   "source": [
    "line_3 = sns.lineplot(data = df_small_3, x = 'Age',y = '#_of_dependants')"
   ]
  },
  {
   "cell_type": "markdown",
   "id": "19848e1a",
   "metadata": {},
   "source": [
    "There is not a strong relationship between age and dependants. However, after around 60 yrs old, customers do tend to have a slightly higher percentage of dependants. All together no clear trend is apparent. "
   ]
  },
  {
   "cell_type": "code",
   "execution_count": 26,
   "id": "aa62ed68",
   "metadata": {},
   "outputs": [
    {
     "data": {
      "image/png": "[encoded data removed]",
      "text/plain": [
       "<Figure size 432x288 with 1 Axes>"
      ]
     },
     "metadata": {
      "needs_background": "light"
     },
     "output_type": "display_data"
    }
   ],
   "source": [
    "#explore whether there’s a connection between age and spending power (income).\n",
    "scatter_2 = sns.scatterplot(x = 'Age', y = 'Income', data = df)"
   ]
  },
  {
   "cell_type": "markdown",
   "id": "31a39672",
   "metadata": {},
   "source": [
    "We can see from 20-40 years old the income is generally under 200,000. At 40 years old the income jumps up another 100,000 and stays mostly around 300,000 through to 80 years old. This shows that the spending ability of 40+ year old customers is higher, reaching even up to 6000,000. While the highest spending ability of under 40 yr olds is 400,000."
   ]
  },
  {
   "cell_type": "markdown",
   "id": "5c372294",
   "metadata": {},
   "source": [
    "# Export "
   ]
  },
  {
   "cell_type": "code",
   "execution_count": 27,
   "id": "9a524c84",
   "metadata": {},
   "outputs": [],
   "source": [
    "# Exporting charts to folder as image\n",
    "bar.figure.savefig(os.path.join(path, 'Analysis','Visualizations', 'bar_orders_dow2.png'))"
   ]
  },
  {
   "cell_type": "code",
   "execution_count": 28,
   "id": "58ff1753",
   "metadata": {},
   "outputs": [],
   "source": [
    "hist.figure.savefig(os.path.join(path, 'Analysis','Visualizations', 'hist_exp.png'))"
   ]
  },
  {
   "cell_type": "code",
   "execution_count": 29,
   "id": "149f77dd",
   "metadata": {},
   "outputs": [],
   "source": [
    "hist2.figure.savefig(os.path.join(path, 'Analysis','Visualizations', 'exp_hour_of_day.png'))"
   ]
  },
  {
   "cell_type": "code",
   "execution_count": 30,
   "id": "4bdd4dc7",
   "metadata": {},
   "outputs": [],
   "source": [
    "scatter.figure.savefig(os.path.join(path, 'Analysis','Visualizations', 'scatter_prices.png'))"
   ]
  },
  {
   "cell_type": "code",
   "execution_count": 31,
   "id": "8e2e4e8e",
   "metadata": {},
   "outputs": [],
   "source": [
    "line.figure.savefig(os.path.join(path, 'Analysis','Visualizations', 'line_dow_prices.png'))"
   ]
  },
  {
   "cell_type": "code",
   "execution_count": 32,
   "id": "fc042593",
   "metadata": {},
   "outputs": [],
   "source": [
    "bar.figure.savefig(os.path.join(path,  'Analysis','Visualizations', 'bar_loyalty_flag.png'))"
   ]
  },
  {
   "cell_type": "code",
   "execution_count": 33,
   "id": "6a4abe09",
   "metadata": {},
   "outputs": [],
   "source": [
    "line_2.figure.savefig(os.path.join(path, 'Analysis','Visualizations', 'line_hour_prices.png'))"
   ]
  },
  {
   "cell_type": "code",
   "execution_count": 34,
   "id": "f48cee49",
   "metadata": {},
   "outputs": [],
   "source": [
    "line_3.figure.savefig(os.path.join(path, 'Analysis','Visualizations', 'line_age_#_of_dependants.png'))"
   ]
  },
  {
   "cell_type": "code",
   "execution_count": 35,
   "id": "15ba3b46",
   "metadata": {},
   "outputs": [],
   "source": [
    "scatter_2.figure.savefig(os.path.join(path, 'Analysis','Visualizations', 'age_income.png'))"
   ]
  },
  {
   "cell_type": "code",
   "execution_count": null,
   "id": "f99ee9f9",
   "metadata": {},
   "outputs": [],
   "source": []
  }
 ],
 "metadata": {
  "kernelspec": {
   "display_name": "Python 3 (ipykernel)",
   "language": "python",
   "name": "python3"
  },
  "language_info": {
   "codemirror_mode": {
    "name": "ipython",
    "version": 3
   },
   "file_extension": ".py",
   "mimetype": "text/x-python",
   "name": "python",
   "nbconvert_exporter": "python",
   "pygments_lexer": "ipython3",
   "version": "3.9.12"
  }
 },
 "nbformat": 4,
 "nbformat_minor": 5
}
