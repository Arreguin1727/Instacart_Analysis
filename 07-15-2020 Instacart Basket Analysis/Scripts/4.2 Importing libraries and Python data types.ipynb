{
 "cells": [
  {
   "cell_type": "markdown",
   "id": "ccf803ef",
   "metadata": {},
   "source": [
    "### Contents\n",
    "    01. Importing libraries\n",
    "    02. Data types"
   ]
  },
  {
   "cell_type": "markdown",
   "id": "dfa4aa1b",
   "metadata": {},
   "source": [
    "# Importing Libraries"
   ]
  },
  {
   "cell_type": "code",
   "execution_count": 1,
   "id": "de164ab3",
   "metadata": {},
   "outputs": [],
   "source": [
    "# Import libraries\n",
    "import pandas as pd\n",
    "import numpy as np\n",
    "import os"
   ]
  },
  {
   "cell_type": "markdown",
   "id": "d4e474ae",
   "metadata": {},
   "source": [
    "# Working With Python Data Types"
   ]
  },
  {
   "cell_type": "code",
   "execution_count": 36,
   "id": "713ffdf1",
   "metadata": {},
   "outputs": [
    {
     "name": "stdout",
     "output_type": "stream",
     "text": [
      "100\n",
      "100\n",
      "100\n"
     ]
    }
   ],
   "source": [
    "# Defining Variables \n",
    "e=0\n",
    "x=100\n",
    "y=48\n",
    "z=52\n",
    "\n",
    "#Calculating & Displaying Results\n",
    "print(e+x)\n",
    "print(x-e)\n",
    "print(y+z)"
   ]
  },
  {
   "cell_type": "code",
   "execution_count": 37,
   "id": "a6285c4b",
   "metadata": {},
   "outputs": [
    {
     "name": "stdout",
     "output_type": "stream",
     "text": [
      "23.692307692307693\n"
     ]
    }
   ],
   "source": [
    "#Floating Point Variables \n",
    "a=1.17\n",
    "b=27.72\n",
    "\n",
    "#Calculating & Displaying Results \n",
    "print(b/a)"
   ]
  },
  {
   "cell_type": "code",
   "execution_count": 38,
   "id": "416e395d",
   "metadata": {},
   "outputs": [
    {
     "name": "stdout",
     "output_type": "stream",
     "text": [
      "applepie\n"
     ]
    }
   ],
   "source": [
    "#Creating a Word with Strings\n",
    "c= 'apple'\n",
    "d= 'pie'\n",
    "\n",
    "# concatenating and displaying results\n",
    "print(c+d)"
   ]
  },
  {
   "cell_type": "code",
   "execution_count": 40,
   "id": "8b16ea9f",
   "metadata": {
    "scrolled": true
   },
   "outputs": [
    {
     "name": "stdout",
     "output_type": "stream",
     "text": [
      "I like rocks. Rocks are cool!\n"
     ]
    }
   ],
   "source": [
    "#Creating 2 Short Sentences with Strings\n",
    "f= 'I like rocks. '\n",
    "g= 'Rocks are cool!'\n",
    "\n",
    "# concatenating and displaying results\n",
    "print(f+g)"
   ]
  },
  {
   "cell_type": "code",
   "execution_count": null,
   "id": "9ead3480",
   "metadata": {},
   "outputs": [],
   "source": []
  }
 ],
 "metadata": {
  "kernelspec": {
   "display_name": "Python 3 (ipykernel)",
   "language": "python",
   "name": "python3"
  },
  "language_info": {
   "codemirror_mode": {
    "name": "ipython",
    "version": 3
   },
   "file_extension": ".py",
   "mimetype": "text/x-python",
   "name": "python",
   "nbconvert_exporter": "python",
   "pygments_lexer": "ipython3",
   "version": "3.9.12"
  }
 },
 "nbformat": 4,
 "nbformat_minor": 5
}
